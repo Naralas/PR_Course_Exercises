{
 "cells": [
  {
   "cell_type": "markdown",
   "metadata": {},
   "source": [
    "KMeans\n",
    "===\n",
    "\n",
    "Pattern Recognition Course MCS 2020 <br />\n",
    "K_Means implementation by hand <br />\n",
    "Herbelin Ludovic <br />"
   ]
  },
  {
   "cell_type": "code",
   "execution_count": 1,
   "metadata": {},
   "outputs": [],
   "source": [
    "import csv\n",
    "import numpy as np\n",
    "import random\n",
    "from scipy.stats.mstats import gmean\n",
    "import scipy.spatial as sp\n",
    "from math import sqrt\n",
    "from tqdm import tqdm, trange"
   ]
  },
  {
   "cell_type": "code",
   "execution_count": 2,
   "metadata": {},
   "outputs": [],
   "source": [
    "TRAIN_FILE = 'data/train.csv'\n",
    "TEST_FILE = 'data/test.csv'\n",
    "\n",
    "K_CLUSTERS = 5"
   ]
  },
  {
   "cell_type": "code",
   "execution_count": 3,
   "metadata": {},
   "outputs": [],
   "source": [
    "class Sample:\n",
    "    def __init__(self, cluster, feature):\n",
    "        self.cluster = cluster\n",
    "        self.feature = feature"
   ]
  },
  {
   "cell_type": "markdown",
   "metadata": {},
   "source": [
    "## Read dataset\n",
    "\n",
    "The data are formatted as such : digit, pixel1, pixel2, pixel3, ..."
   ]
  },
  {
   "cell_type": "code",
   "execution_count": 4,
   "metadata": {},
   "outputs": [],
   "source": [
    "def read_dataset(file_path):\n",
    "    with open(file_path, 'r') as file:\n",
    "        reader = csv.reader(file)\n",
    "        data = list(reader)\n",
    "        matrix = np.array(data, dtype = int)\n",
    "        samples = matrix[:,1:]\n",
    "        labels = matrix[:,0]\n",
    "\n",
    "        return samples, labels"
   ]
  },
  {
   "cell_type": "code",
   "execution_count": 5,
   "metadata": {},
   "outputs": [
    {
     "name": "stdout",
     "output_type": "stream",
     "text": [
      "26999\n"
     ]
    }
   ],
   "source": [
    "train_samples, train_labels = read_dataset(TRAIN_FILE)\n",
    "# reshape the array as a matrix so we can use scipy's cdist\n",
    "train_samples = [Sample(None, np.array(sample)) for sample in train_samples]\n",
    "\n",
    "print(len(train_samples))"
   ]
  },
  {
   "cell_type": "markdown",
   "metadata": {},
   "source": [
    "## KMeans function"
   ]
  },
  {
   "cell_type": "code",
   "execution_count": null,
   "metadata": {},
   "outputs": [],
   "source": [
    "def k_means(samples, k_clusters, max_iter=100):\n",
    "    # assign centers as random points (temporarily)\n",
    "    initial_centers = random.sample(samples, k_clusters)\n",
    "    cluster_centers = []\n",
    "    for point in initial_centers: \n",
    "        cluster_centers.append(point.feature)\n",
    "    \n",
    "    for iter_id in trange(max_iter):\n",
    "        # compute distances to each center returned as matrix M, for each ij ∈ M, M_ij = dist(XA[i], XB[j]) \n",
    "        cluster_distances = sp.distance.cdist([sample.feature for sample in samples], cluster_centers, metric='euclidean')\n",
    "        \n",
    "        # find the smallest (argmin) cluster index distance and assign it to the sample\n",
    "        for sample, sample_distances in zip(samples, cluster_distances):\n",
    "            cluster_id = np.argmin(sample_distances)\n",
    "            sample.cluster = cluster_id\n",
    "        \n",
    "        # recompute the new center for the cluster\n",
    "        for i in range(k_clusters):\n",
    "            cluster_samples = [sample.feature for sample in samples if sample.cluster == i]\n",
    "            centroid = np.mean(cluster_samples, axis=0)\n",
    "            cluster_centers[i] = centroid\n",
    "        \n",
    "        if iter_id % 5 == 0:\n",
    "            c_index_computed = c_index(samples, k_clusters)\n",
    "            print(f\"C_Index after {iter_id} iterations : {c_index_computer}\")"
   ]
  },
  {
   "cell_type": "markdown",
   "metadata": {},
   "source": [
    "## Cluster quality measures"
   ]
  },
  {
   "cell_type": "code",
   "execution_count": 10,
   "metadata": {},
   "outputs": [],
   "source": [
    "def c_index(samples, k_clusters):\n",
    "    dist_sum = 0\n",
    "    alpha = 0\n",
    "    for i in range(k_clusters):\n",
    "        cluster_samples = [sample.feature for sample in samples if sample.cluster == i]\n",
    "        intra_distances = sp.distance.cdist(cluster_samples, cluster_samples, metric='euclidean')\n",
    "        \n",
    "        for j in range(len(intra_distances)):\n",
    "            dist_sum += sum(intra_distances[j][j:])\n",
    "            alpha += len(intra_distances[j][j:])\n",
    "    \n",
    "    return 0\n"
   ]
  },
  {
   "cell_type": "markdown",
   "metadata": {},
   "source": [
    "## Main"
   ]
  },
  {
   "cell_type": "code",
   "execution_count": 11,
   "metadata": {},
   "outputs": [
    {
     "name": "stderr",
     "output_type": "stream",
     "text": [
      "\r",
      "  0%|                                                                                                                                                                | 0/100 [00:00<?, ?it/s]"
     ]
    },
    {
     "ename": "KeyboardInterrupt",
     "evalue": "",
     "output_type": "error",
     "traceback": [
      "\u001b[1;31m---------------------------------------------------------------------------\u001b[0m",
      "\u001b[1;31mKeyboardInterrupt\u001b[0m                         Traceback (most recent call last)",
      "\u001b[1;32m<ipython-input-11-f2f8fb325cec>\u001b[0m in \u001b[0;36m<module>\u001b[1;34m\u001b[0m\n\u001b[1;32m----> 1\u001b[1;33m \u001b[0mk_means\u001b[0m\u001b[1;33m(\u001b[0m\u001b[0mtrain_samples\u001b[0m\u001b[1;33m,\u001b[0m \u001b[0mK_CLUSTERS\u001b[0m\u001b[1;33m,\u001b[0m \u001b[0mmax_iter\u001b[0m\u001b[1;33m=\u001b[0m\u001b[1;36m100\u001b[0m\u001b[1;33m)\u001b[0m\u001b[1;33m\u001b[0m\u001b[0m\n\u001b[0m",
      "\u001b[1;32m<ipython-input-9-5a15e07733b8>\u001b[0m in \u001b[0;36mk_means\u001b[1;34m(samples, k_clusters, max_iter)\u001b[0m\n\u001b[0;32m     22\u001b[0m \u001b[1;33m\u001b[0m\u001b[0m\n\u001b[0;32m     23\u001b[0m         \u001b[1;32mif\u001b[0m \u001b[0miter_id\u001b[0m \u001b[1;33m%\u001b[0m \u001b[1;36m5\u001b[0m \u001b[1;33m==\u001b[0m \u001b[1;36m0\u001b[0m\u001b[1;33m:\u001b[0m\u001b[1;33m\u001b[0m\u001b[0m\n\u001b[1;32m---> 24\u001b[1;33m             \u001b[0mprint\u001b[0m\u001b[1;33m(\u001b[0m\u001b[1;34mf\"C_Index after {iter_id} iterations : {c_index(samples)}\"\u001b[0m\u001b[1;33m)\u001b[0m\u001b[1;33m\u001b[0m\u001b[0m\n\u001b[0m",
      "\u001b[1;32m<ipython-input-10-732c2edd9baa>\u001b[0m in \u001b[0;36mc_index\u001b[1;34m(samples)\u001b[0m\n\u001b[0;32m      1\u001b[0m \u001b[1;32mdef\u001b[0m \u001b[0mc_index\u001b[0m\u001b[1;33m(\u001b[0m\u001b[0msamples\u001b[0m\u001b[1;33m)\u001b[0m\u001b[1;33m:\u001b[0m\u001b[1;33m\u001b[0m\u001b[0m\n\u001b[0;32m      2\u001b[0m     cluster_distances = sp.distance.cdist([sample.feature for sample in samples], \n\u001b[1;32m----> 3\u001b[1;33m                                           [sample.feature for sample in samples], metric='euclidean')\n\u001b[0m\u001b[0;32m      4\u001b[0m \u001b[1;33m\u001b[0m\u001b[0m\n\u001b[0;32m      5\u001b[0m     \u001b[1;32mreturn\u001b[0m \u001b[1;36m0\u001b[0m\u001b[1;33m\u001b[0m\u001b[0m\n",
      "\u001b[1;32mc:\\users\\ludovic\\appdata\\local\\programs\\python\\python37\\lib\\site-packages\\scipy\\spatial\\distance.py\u001b[0m in \u001b[0;36mcdist\u001b[1;34m(XA, XB, metric, *args, **kwargs)\u001b[0m\n\u001b[0;32m   2778\u001b[0m             cdist_fn = getattr(_distance_wrap,\n\u001b[0;32m   2779\u001b[0m                                \"cdist_%s_%s_wrap\" % (metric_name, typ))\n\u001b[1;32m-> 2780\u001b[1;33m             \u001b[0mcdist_fn\u001b[0m\u001b[1;33m(\u001b[0m\u001b[0mXA\u001b[0m\u001b[1;33m,\u001b[0m \u001b[0mXB\u001b[0m\u001b[1;33m,\u001b[0m \u001b[0mdm\u001b[0m\u001b[1;33m,\u001b[0m \u001b[1;33m**\u001b[0m\u001b[0mkwargs\u001b[0m\u001b[1;33m)\u001b[0m\u001b[1;33m\u001b[0m\u001b[0m\n\u001b[0m\u001b[0;32m   2781\u001b[0m             \u001b[1;32mreturn\u001b[0m \u001b[0mdm\u001b[0m\u001b[1;33m\u001b[0m\u001b[0m\n\u001b[0;32m   2782\u001b[0m \u001b[1;33m\u001b[0m\u001b[0m\n",
      "\u001b[1;31mKeyboardInterrupt\u001b[0m: "
     ]
    }
   ],
   "source": [
    "k_means(train_samples, K_CLUSTERS, max_iter=100)"
   ]
  },
  {
   "cell_type": "code",
   "execution_count": null,
   "metadata": {},
   "outputs": [],
   "source": []
  }
 ],
 "metadata": {
  "kernelspec": {
   "display_name": "Python 3",
   "language": "python",
   "name": "python3"
  },
  "language_info": {
   "codemirror_mode": {
    "name": "ipython",
    "version": 3
   },
   "file_extension": ".py",
   "mimetype": "text/x-python",
   "name": "python",
   "nbconvert_exporter": "python",
   "pygments_lexer": "ipython3",
   "version": "3.7.0"
  }
 },
 "nbformat": 4,
 "nbformat_minor": 4
}
