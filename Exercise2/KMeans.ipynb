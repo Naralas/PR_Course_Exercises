{
 "cells": [
  {
   "cell_type": "markdown",
   "metadata": {},
   "source": [
    "KMeans\n",
    "===\n",
    "\n",
    "Pattern Recognition Course MCS 2020 <br />\n",
    "K_Means implementation by hand <br />\n",
    "Herbelin Ludovic <br />"
   ]
  },
  {
   "cell_type": "code",
   "execution_count": 2,
   "metadata": {},
   "outputs": [],
   "source": [
    "import csv\n",
    "import numpy as np\n",
    "import random\n",
    "from scipy.stats.mstats import gmean\n",
    "import scipy.spatial as sp\n",
    "from math import sqrt\n",
    "from tqdm import tqdm, trange"
   ]
  },
  {
   "cell_type": "code",
   "execution_count": 3,
   "metadata": {},
   "outputs": [],
   "source": [
    "TRAIN_FILE = 'data/train.csv'\n",
    "TEST_FILE = 'data/test.csv'\n",
    "\n",
    "K_CLUSTERS = 5"
   ]
  },
  {
   "cell_type": "code",
   "execution_count": 4,
   "metadata": {},
   "outputs": [],
   "source": [
    "class Sample:\n",
    "    def __init__(self, cluster, feature):\n",
    "        self.cluster = cluster\n",
    "        self.feature = feature"
   ]
  },
  {
   "cell_type": "markdown",
   "metadata": {},
   "source": [
    "## Read dataset\n",
    "\n",
    "The data are formatted as such : digit, pixel1, pixel2, pixel3, ..."
   ]
  },
  {
   "cell_type": "code",
   "execution_count": 5,
   "metadata": {},
   "outputs": [],
   "source": [
    "def read_dataset(file_path):\n",
    "    with open(file_path, 'r') as file:\n",
    "        reader = csv.reader(file)\n",
    "        data = list(reader)\n",
    "        matrix = np.array(data, dtype = int)\n",
    "        samples = matrix[:,1:]\n",
    "        labels = matrix[:,0]\n",
    "\n",
    "        return samples, labels"
   ]
  },
  {
   "cell_type": "code",
   "execution_count": 24,
   "metadata": {},
   "outputs": [
    {
     "name": "stdout",
     "output_type": "stream",
     "text": [
      "100\n"
     ]
    }
   ],
   "source": [
    "train_samples, train_labels = read_dataset(TRAIN_FILE)\n",
    "# reshape the array as a matrix so we can use scipy's cdist\n",
    "train_samples = [Sample(None, np.array(sample)) for sample in train_samples][:100]\n",
    "\n",
    "print(len(train_samples))"
   ]
  },
  {
   "cell_type": "markdown",
   "metadata": {},
   "source": [
    "## KMeans function"
   ]
  },
  {
   "cell_type": "markdown",
   "metadata": {},
   "source": [
    "def k_means(samples, k_clusters, max_iter=100):\n",
    "    \n",
    "    # assign centers as random points (temporarily)\n",
    "    initial_centers = random.sample(samples, k_clusters)\n",
    "    cluster_centers = []\n",
    "    for point in initial_centers:\n",
    "        cluster_centers.append(point.feature)\n",
    "\n",
    "    for i in trange(max_iter):\n",
    "        for xi in (sample for sample in samples):\n",
    "            # compute distances to each cluster for this sample \n",
    "            cluster_distances = []\n",
    "            for cluster_center in cluster_centers:\n",
    "                try:\n",
    "                    center_distance = sp.distance.cdist(xi.feature, cluster_center, metric='euclidean')\n",
    "                    cluster_distances.append(center_distance)\n",
    "                except:\n",
    "                    print(xi.feature.shape)\n",
    "                    print(cluster_center.shape)\n",
    "            \n",
    "            # get the cluster center with the minimal distance\n",
    "            smallest_dist, cluster_index = min((value, index) for (index, value) in enumerate(cluster_distances))\n",
    "            #closest_center = min(cluster_distances, key=cluster_distances.get)\n",
    "            xi.cluster = cluster_index\n",
    "            \n",
    "        # recompute the center of the cluster\n",
    "        for i in range(K_CLUSTERS):\n",
    "            cluster_samples = [sample.feature[0] for sample in samples if sample.cluster == i]\n",
    "            # compute the geometric mean and shape it as matrix so we can use scipy's cdist\n",
    "            cluster_centers[i] = np.array(gmean(cluster_samples)).reshape(1, -1)\n",
    "            print(cluster_samples[:2])\n",
    "            print(gmean(cluster_samples))\n",
    "            return\n"
   ]
  },
  {
   "cell_type": "code",
   "execution_count": 42,
   "metadata": {},
   "outputs": [],
   "source": [
    "def k_means(samples, k_clusters, max_iter=100):\n",
    "    # assign centers as random points (temporarily)\n",
    "    initial_centers = random.sample(samples, k_clusters)\n",
    "    cluster_centers = []\n",
    "    for point in initial_centers: \n",
    "        cluster_centers.append(point.feature)\n",
    "    \n",
    "    for i in trange(max_iter):\n",
    "        # compute distances to each center returned as matrix M, for each ij ∈ M, M_ij = dist(XA[i], XB[j]) \n",
    "        cluster_distances = sp.distance.cdist([sample.feature for sample in samples], cluster_centers, metric='euclidean')\n",
    "        \n",
    "        # find the smallest (argmin) cluster index distance and assign it to the sample\n",
    "        for sample, sample_distances in zip(samples, cluster_distances):\n",
    "            cluster_id = np.argmin(sample_distances)\n",
    "            sample.cluster = cluster_id\n",
    "        \n",
    "        # recompute the new center for the cluster\n",
    "        for i in range(k_clusters):\n",
    "            cluster_samples = [sample.feature for sample in samples if sample.cluster == i]\n",
    "            centroid = np.mean(cluster_samples, axis=0)\n",
    "            cluster_centers[i] = centroid\n",
    "            \n",
    "        "
   ]
  },
  {
   "cell_type": "markdown",
   "metadata": {},
   "source": [
    "## Main"
   ]
  },
  {
   "cell_type": "code",
   "execution_count": 43,
   "metadata": {},
   "outputs": [
    {
     "name": "stderr",
     "output_type": "stream",
     "text": [
      "100%|███████████████████████████████████████████████████████████████████████████████████████████████████████████████████████████████████████████████████████| 10/10 [00:00<00:00, 665.93it/s]"
     ]
    },
    {
     "name": "stdout",
     "output_type": "stream",
     "text": [
      "starting clustering...\n"
     ]
    },
    {
     "name": "stderr",
     "output_type": "stream",
     "text": [
      "\n"
     ]
    }
   ],
   "source": [
    "print(\"starting clustering...\")\n",
    "k_means(train_samples, K_CLUSTERS, max_iter=10)"
   ]
  },
  {
   "cell_type": "code",
   "execution_count": null,
   "metadata": {},
   "outputs": [],
   "source": []
  }
 ],
 "metadata": {
  "kernelspec": {
   "display_name": "Python 3",
   "language": "python",
   "name": "python3"
  },
  "language_info": {
   "codemirror_mode": {
    "name": "ipython",
    "version": 3
   },
   "file_extension": ".py",
   "mimetype": "text/x-python",
   "name": "python",
   "nbconvert_exporter": "python",
   "pygments_lexer": "ipython3",
   "version": "3.7.0"
  }
 },
 "nbformat": 4,
 "nbformat_minor": 4
}
