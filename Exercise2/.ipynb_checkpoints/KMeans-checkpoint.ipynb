{
 "cells": [
  {
   "cell_type": "markdown",
   "metadata": {},
   "source": [
    "KMeans\n",
    "===\n",
    "\n",
    "Pattern Recognition Course MCS 2020 <br />\n",
    "K_Means implementation by hand <br />\n",
    "Herbelin Ludovic <br />"
   ]
  },
  {
   "cell_type": "code",
   "execution_count": null,
   "metadata": {},
   "outputs": [],
   "source": [
    "import csv\n",
    "import numpy as np\n",
    "import random\n",
    "import scipy.spatial as sp\n",
    "from math import sqrt\n",
    "import tqdm"
   ]
  },
  {
   "cell_type": "code",
   "execution_count": null,
   "metadata": {},
   "outputs": [],
   "source": [
    "TRAIN_FILE = 'data/train.csv'\n",
    "TEST_FILE = 'data/test.csv'\n",
    "\n",
    "K_CLUSTERS = 5"
   ]
  },
  {
   "cell_type": "code",
   "execution_count": null,
   "metadata": {},
   "outputs": [],
   "source": [
    "class Sample:\n",
    "    def __init__(self, cluster, feature):\n",
    "        self.cluster = cluster\n",
    "        self.feature = feature"
   ]
  },
  {
   "cell_type": "code",
   "execution_count": null,
   "metadata": {},
   "outputs": [],
   "source": [
    "def read_dataset(file_path):\n",
    "    with open(file_path, 'r') as file:\n",
    "        reader = csv.reader(file)\n",
    "        data = list(reader)\n",
    "        matrix = np.array(data, dtype = int)\n",
    "        samples = matrix[:,1:]\n",
    "        labels = matrix[:,0]\n",
    "\n",
    "        return samples, labels"
   ]
  },
  {
   "cell_type": "code",
   "execution_count": null,
   "metadata": {},
   "outputs": [],
   "source": [
    "def k_means(samples, k_clusters, max_iter=100):\n",
    "    cluster_centers = random.sample(samples, k_clusters)\n",
    "    for i in range(0, len(cluster_centers)):\n",
    "        cluster_centers[i].cluster = i\n",
    "\n",
    "    for i in tqdm.trange(0, max_iter):\n",
    "        for xi in (sample for sample in samples if sample not in cluster_centers):\n",
    "            cluster_distances = {}\n",
    "            for cluster_center in cluster_centers:\n",
    "                cluster_distances[cluster_center] = sp.distance.cdist(xi.feature, cluster_center.feature, metric='euclidean')\n",
    "            \n",
    "            closest_center = min(cluster_distances, key=cluster_distances.get)\n",
    "            xi.cluster = closest_center.cluster\n"
   ]
  },
  {
   "cell_type": "code",
   "execution_count": null,
   "metadata": {},
   "outputs": [],
   "source": [
    "train_samples, train_labels = read_dataset(TRAIN_FILE)\n",
    "train_samples = [Sample(None, np.array(sample).reshape(1, -1)) for sample in train_samples]\n",
    "\n",
    "print(len(train_samples))"
   ]
  },
  {
   "cell_type": "code",
   "execution_count": null,
   "metadata": {},
   "outputs": [],
   "source": [
    "k_means(train_samples, K_CLUSTERS, max_iter=5)"
   ]
  },
  {
   "cell_type": "code",
   "execution_count": null,
   "metadata": {},
   "outputs": [],
   "source": []
  }
 ],
 "metadata": {
  "kernelspec": {
   "display_name": "Python 3.7.4 64-bit",
   "language": "python",
   "name": "python37464bit25dd22cab2bc47a9b638aee5e8b41f31"
  },
  "language_info": {
   "codemirror_mode": {
    "name": "ipython",
    "version": 3
   },
   "file_extension": ".py",
   "mimetype": "text/x-python",
   "name": "python",
   "nbconvert_exporter": "python",
   "pygments_lexer": "ipython3",
   "version": "3.7.4"
  }
 },
 "nbformat": 4,
 "nbformat_minor": 4
}
